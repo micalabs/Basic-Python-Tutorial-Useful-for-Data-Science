{
 "cells": [
  {
   "cell_type": "markdown",
   "metadata": {},
   "source": [
    "# Working on Lists - it has much functionality than Sets and Tuples"
   ]
  },
  {
   "cell_type": "code",
   "execution_count": 1,
   "metadata": {},
   "outputs": [
    {
     "name": "stdout",
     "output_type": "stream",
     "text": [
      "['History', 'Mathematics', 'Physics', 'Chemistry', 'CompSci']\n"
     ]
    }
   ],
   "source": [
    "# working on lists, we use square bracket [] to create lists and seperated by commas\n",
    "\n",
    "courses = ['History', 'Mathematics','Physics', 'Chemistry', 'CompSci']\n",
    "print(courses)\n"
   ]
  },
  {
   "cell_type": "code",
   "execution_count": 2,
   "metadata": {},
   "outputs": [
    {
     "name": "stdout",
     "output_type": "stream",
     "text": [
      "5\n"
     ]
    }
   ],
   "source": [
    "# to identify number of variables there, we use len()\n",
    "print(len(courses))"
   ]
  },
  {
   "cell_type": "code",
   "execution_count": 3,
   "metadata": {},
   "outputs": [
    {
     "name": "stdout",
     "output_type": "stream",
     "text": [
      "History\n"
     ]
    }
   ],
   "source": [
    "#Accessing each variable using index [], it start with 0\n",
    "print(courses[0])"
   ]
  },
  {
   "cell_type": "code",
   "execution_count": 5,
   "metadata": {},
   "outputs": [
    {
     "name": "stdout",
     "output_type": "stream",
     "text": [
      "CompSci\n"
     ]
    }
   ],
   "source": [
    "# to physical count the index 0 - history, 1 - mathematics, 2- physics, 3 - chemistry, 4 - CompSci\n",
    "print(courses[4])"
   ]
  },
  {
   "cell_type": "code",
   "execution_count": 14,
   "metadata": {},
   "outputs": [
    {
     "name": "stdout",
     "output_type": "stream",
     "text": [
      "CompSci\n",
      "Chemistry\n"
     ]
    }
   ],
   "source": [
    "# getting the last item of the list using -1\n",
    "print(courses[-1])\n",
    "#or\n",
    "print(courses[-2])\n"
   ]
  },
  {
   "cell_type": "code",
   "execution_count": 15,
   "metadata": {},
   "outputs": [
    {
     "ename": "IndexError",
     "evalue": "list index out of range",
     "output_type": "error",
     "traceback": [
      "\u001b[1;31m---------------------------------------------------------------------------\u001b[0m",
      "\u001b[1;31mIndexError\u001b[0m                                Traceback (most recent call last)",
      "\u001b[1;32m<ipython-input-15-75465164d902>\u001b[0m in \u001b[0;36m<module>\u001b[1;34m()\u001b[0m\n\u001b[1;32m----> 1\u001b[1;33m \u001b[0mprint\u001b[0m\u001b[1;33m(\u001b[0m\u001b[0mcourses\u001b[0m\u001b[1;33m[\u001b[0m\u001b[1;36m5\u001b[0m\u001b[1;33m]\u001b[0m\u001b[1;33m)\u001b[0m \u001b[1;31m#item that does not exist\u001b[0m\u001b[1;33m\u001b[0m\u001b[0m\n\u001b[0m",
      "\u001b[1;31mIndexError\u001b[0m: list index out of range"
     ]
    }
   ],
   "source": [
    "print(courses[5]) #item that does not exist will result in error"
   ]
  },
  {
   "cell_type": "code",
   "execution_count": 10,
   "metadata": {},
   "outputs": [
    {
     "name": "stdout",
     "output_type": "stream",
     "text": [
      "['History', 'Mathematics']\n",
      "['History', 'Mathematics']\n",
      "['Physics', 'Chemistry', 'CompSci']\n"
     ]
    }
   ],
   "source": [
    "print(courses[0:2])\n",
    "print(courses[:2])\n",
    "print(courses[2:]) # refer to as slicing"
   ]
  },
  {
   "cell_type": "code",
   "execution_count": 19,
   "metadata": {},
   "outputs": [
    {
     "name": "stdout",
     "output_type": "stream",
     "text": [
      "['History', 'Mathematics', 'Physics', 'Chemistry', 'CompSci', 'Art']\n"
     ]
    }
   ],
   "source": [
    "# to add an item to the end of the lists, we can use append() function\n",
    "\n",
    "courses = ['History', 'Mathematics','Physics', 'Chemistry', 'CompSci']\n",
    "\n",
    "courses.append('Art')\n",
    "\n",
    "print(courses)"
   ]
  },
  {
   "cell_type": "code",
   "execution_count": 29,
   "metadata": {},
   "outputs": [
    {
     "name": "stdout",
     "output_type": "stream",
     "text": [
      "['Art', 'History', 'Mathematics', 'Physics', 'Chemistry', 'CompSci']\n"
     ]
    }
   ],
   "source": [
    "#insert () function can be used to insert, it takes two value, the 'place you want to insert new value' and 'the value itself'\n",
    "\n",
    "courses = ['History', 'Mathematics','Physics', 'Chemistry', 'CompSci']\n",
    "courses.insert(0,'Art')\n",
    "print(courses)\n",
    "\n"
   ]
  },
  {
   "cell_type": "code",
   "execution_count": 30,
   "metadata": {},
   "outputs": [
    {
     "name": "stdout",
     "output_type": "stream",
     "text": [
      "['History', 'Art', 'Mathematics', 'Physics', 'Chemistry', 'CompSci']\n"
     ]
    }
   ],
   "source": [
    "\n",
    "courses = ['History', 'Mathematics','Physics', 'Chemistry', 'CompSci']\n",
    "courses.insert(1, 'Art')\n",
    "print(courses)"
   ]
  },
  {
   "cell_type": "code",
   "execution_count": 36,
   "metadata": {},
   "outputs": [
    {
     "name": "stdout",
     "output_type": "stream",
     "text": [
      "[['Art', 'Engineering', 'Education'], 'History', 'Mathematics', 'Physics', 'Chemistry', 'CompSci']\n",
      "['Art', 'Engineering', 'Education']\n"
     ]
    }
   ],
   "source": [
    "# to add more values to the list, we use 'extend' when we have multiple values to add to the list\n",
    "#let say we have another set of values in courses_2\n",
    "\n",
    "courses = ['History', 'Mathematics','Physics', 'Chemistry', 'CompSci']\n",
    "\n",
    "courses_2 = ['Art', 'Engineering', 'Education']\n",
    "courses.insert(0, courses_2)\n",
    "print(courses)\n",
    "print(courses[0])\n"
   ]
  },
  {
   "cell_type": "code",
   "execution_count": 37,
   "metadata": {},
   "outputs": [
    {
     "name": "stdout",
     "output_type": "stream",
     "text": [
      "['History', 'Mathematics', 'Physics', 'Chemistry', 'CompSci', 'Art', 'Engineering', 'Education']\n"
     ]
    }
   ],
   "source": [
    "#then using the extend() function which only takes one/single value, we allow us to list all the courses\n",
    "courses = ['History', 'Mathematics','Physics', 'Chemistry', 'CompSci']\n",
    "courses_2 = ['Art', 'Engineering', 'Education']\n",
    "\n",
    "courses.extend(courses_2)\n",
    "print(courses)"
   ]
  },
  {
   "cell_type": "code",
   "execution_count": 45,
   "metadata": {},
   "outputs": [
    {
     "name": "stdout",
     "output_type": "stream",
     "text": [
      "['History', 'Mathematics', 'Physics', 'Chemistry', 'CompSci', ['Art', 'Engineering', 'Education']]\n"
     ]
    }
   ],
   "source": [
    "#Append () and extend() are different, Append will put the list inside the list while extend list all the values\n",
    "courses = ['History', 'Mathematics','Physics', 'Chemistry', 'CompSci']\n",
    "courses_2 = ['Art', 'Engineering', 'Education']\n",
    "\n",
    "courses.append(courses_2)\n",
    "print(courses)\n",
    "\n"
   ]
  },
  {
   "cell_type": "code",
   "execution_count": 46,
   "metadata": {},
   "outputs": [
    {
     "name": "stdout",
     "output_type": "stream",
     "text": [
      "['History', 'Mathematics', 'Physics', 'Chemistry', 'CompSci', 'Art', 'Engineering', 'Education']\n"
     ]
    }
   ],
   "source": [
    "courses = ['History', 'Mathematics','Physics', 'Chemistry', 'CompSci']\n",
    "courses_2 = ['Art', 'Engineering', 'Education']\n",
    "courses.extend(courses_2)\n",
    "print(courses)"
   ]
  },
  {
   "cell_type": "code",
   "execution_count": 48,
   "metadata": {},
   "outputs": [
    {
     "name": "stdout",
     "output_type": "stream",
     "text": [
      "['History', 'Physics', 'Chemistry', 'CompSci']\n"
     ]
    }
   ],
   "source": [
    "# To remove values from the list, we caan use remove() function\n",
    "courses = ['History', 'Mathematics','Physics', 'Chemistry', 'CompSci']\n",
    "\n",
    "courses.remove('Mathematics')\n",
    "print(courses)"
   ]
  },
  {
   "cell_type": "code",
   "execution_count": 49,
   "metadata": {},
   "outputs": [
    {
     "name": "stdout",
     "output_type": "stream",
     "text": [
      "['History', 'Mathematics', 'Physics', 'Chemistry']\n"
     ]
    }
   ],
   "source": [
    "#Another ways to remove value from the list is using pop() function, by default it will remove the last value from the lists\n",
    "courses = ['History', 'Mathematics','Physics', 'Chemistry', 'CompSci']\n",
    "\n",
    "courses.pop() # by default CompSci has been removed\n",
    "print(courses)"
   ]
  },
  {
   "cell_type": "code",
   "execution_count": 52,
   "metadata": {},
   "outputs": [
    {
     "name": "stdout",
     "output_type": "stream",
     "text": [
      "['History', 'Mathematics', 'Physics', 'Chemistry']\n",
      "CompSci\n"
     ]
    }
   ],
   "source": [
    "#The value pop() removed can be returned by setting a variable as popped\n",
    "\n",
    "courses = ['History', 'Mathematics','Physics', 'Chemistry', 'CompSci']\n",
    "\n",
    "popped = courses.pop()\n",
    "print(courses)\n",
    "print(popped)"
   ]
  },
  {
   "cell_type": "code",
   "execution_count": 55,
   "metadata": {},
   "outputs": [
    {
     "name": "stdout",
     "output_type": "stream",
     "text": [
      "['CompSci', 'Chemistry', 'Physics', 'Mathematics', 'History']\n"
     ]
    }
   ],
   "source": [
    "#the list of item can be reverse, \n",
    "\n",
    "courses = ['History', 'Mathematics','Physics', 'Chemistry', 'CompSci']\n",
    "courses.reverse()       # started from the last item in the list to the first item in reverse order\n",
    "print(courses)"
   ]
  },
  {
   "cell_type": "code",
   "execution_count": 57,
   "metadata": {},
   "outputs": [
    {
     "name": "stdout",
     "output_type": "stream",
     "text": [
      "['Chemistry', 'CompSci', 'History', 'Mathematics', 'Physics']\n"
     ]
    }
   ],
   "source": [
    "# using sort() function to sort values\n",
    "\n",
    "courses = ['History', 'Mathematics','Physics', 'Chemistry', 'CompSci']\n",
    "\n",
    "courses.sort()          # it sort the list in alphabetical order\n",
    "print(courses)\n"
   ]
  },
  {
   "cell_type": "code",
   "execution_count": 58,
   "metadata": {},
   "outputs": [
    {
     "name": "stdout",
     "output_type": "stream",
     "text": [
      "[1, 2, 3, 4, 5, 6, 7, 9, 10]\n"
     ]
    }
   ],
   "source": [
    "# this can work for number as well, sort() function sort the number in ascending order from 1 to 10\n",
    "num = [1, 3, 2, 7, 5, 6, 9, 10, 4]\n",
    "\n",
    "num.sort()\n",
    "print(num)"
   ]
  },
  {
   "cell_type": "code",
   "execution_count": 65,
   "metadata": {},
   "outputs": [
    {
     "name": "stdout",
     "output_type": "stream",
     "text": [
      "[10, 9, 7, 6, 5, 4, 3, 2, 1]\n",
      "[1, 2, 3, 4, 5, 6, 7, 9, 10]\n"
     ]
    }
   ],
   "source": [
    "# to sort value in decending order, we need to add reverse() function to sort () function\n",
    "\n",
    "num = [1, 3, 2, 7, 5, 6, 9, 10, 4]\n",
    "\n",
    "num.sort(reverse= True)\n",
    "print(num)\n",
    "\n",
    "#also in ascending order\n",
    "\n",
    "num = [1, 3, 2, 7, 5, 6, 9, 10, 4]\n",
    "\n",
    "num.sort(reverse=False)\n",
    "print(num)"
   ]
  },
  {
   "cell_type": "code",
   "execution_count": 67,
   "metadata": {},
   "outputs": [
    {
     "name": "stdout",
     "output_type": "stream",
     "text": [
      "['History', 'Mathematics', 'Physics', 'Chemistry', 'CompSci']\n"
     ]
    }
   ],
   "source": [
    "# To return sorted version of the list, we can use sorted()\n",
    "\n",
    "courses = ['History', 'Mathematics','Physics', 'Chemistry', 'CompSci']\n",
    "sorted(courses)\n",
    "print(courses)"
   ]
  },
  {
   "cell_type": "code",
   "execution_count": 68,
   "metadata": {},
   "outputs": [
    {
     "name": "stdout",
     "output_type": "stream",
     "text": [
      "['Chemistry', 'CompSci', 'History', 'Mathematics', 'Physics']\n"
     ]
    }
   ],
   "source": [
    "# Wanting to sorted the value, want the sorted version of the list withour altering the oringinal version of the lists\n",
    "courses = ['History', 'Mathematics','Physics', 'Chemistry', 'CompSci']\n",
    "sorted_courses = sorted(courses)   #print it out in aphabetical order\n",
    "print(sorted_courses)     "
   ]
  },
  {
   "cell_type": "code",
   "execution_count": 69,
   "metadata": {},
   "outputs": [
    {
     "name": "stdout",
     "output_type": "stream",
     "text": [
      "1\n"
     ]
    }
   ],
   "source": [
    "# some other built in functions such as min, max and sum\n",
    "num = [1, 3, 2, 7, 5, 6, 9, 10, 4]\n",
    "print(min(num))"
   ]
  },
  {
   "cell_type": "code",
   "execution_count": 70,
   "metadata": {},
   "outputs": [
    {
     "name": "stdout",
     "output_type": "stream",
     "text": [
      "10\n"
     ]
    }
   ],
   "source": [
    "print(max(num))"
   ]
  },
  {
   "cell_type": "code",
   "execution_count": 71,
   "metadata": {},
   "outputs": [
    {
     "name": "stdout",
     "output_type": "stream",
     "text": [
      "47\n"
     ]
    }
   ],
   "source": [
    "print(sum(num))"
   ]
  },
  {
   "cell_type": "code",
   "execution_count": 72,
   "metadata": {},
   "outputs": [
    {
     "name": "stdout",
     "output_type": "stream",
     "text": [
      "3\n"
     ]
    }
   ],
   "source": [
    "# Finding index of a certain value then we can use index [] functions\n",
    "courses = ['History', 'Mathematics','Physics', 'Chemistry', 'CompSci']\n",
    "print(courses.index('Chemistry'))"
   ]
  },
  {
   "cell_type": "code",
   "execution_count": 73,
   "metadata": {},
   "outputs": [
    {
     "ename": "ValueError",
     "evalue": "'Art' is not in list",
     "output_type": "error",
     "traceback": [
      "\u001b[1;31m---------------------------------------------------------------------------\u001b[0m",
      "\u001b[1;31mValueError\u001b[0m                                Traceback (most recent call last)",
      "\u001b[1;32m<ipython-input-73-9e7e01da136a>\u001b[0m in \u001b[0;36m<module>\u001b[1;34m()\u001b[0m\n\u001b[0;32m      2\u001b[0m \u001b[1;31m# Finding index of a certain value then we can use index [] functions\u001b[0m\u001b[1;33m\u001b[0m\u001b[1;33m\u001b[0m\u001b[0m\n\u001b[0;32m      3\u001b[0m \u001b[0mcourses\u001b[0m \u001b[1;33m=\u001b[0m \u001b[1;33m[\u001b[0m\u001b[1;34m'History'\u001b[0m\u001b[1;33m,\u001b[0m \u001b[1;34m'Mathematics'\u001b[0m\u001b[1;33m,\u001b[0m\u001b[1;34m'Physics'\u001b[0m\u001b[1;33m,\u001b[0m \u001b[1;34m'Chemistry'\u001b[0m\u001b[1;33m,\u001b[0m \u001b[1;34m'CompSci'\u001b[0m\u001b[1;33m]\u001b[0m\u001b[1;33m\u001b[0m\u001b[0m\n\u001b[1;32m----> 4\u001b[1;33m \u001b[0mprint\u001b[0m\u001b[1;33m(\u001b[0m\u001b[0mcourses\u001b[0m\u001b[1;33m.\u001b[0m\u001b[0mindex\u001b[0m\u001b[1;33m(\u001b[0m\u001b[1;34m'Art'\u001b[0m\u001b[1;33m)\u001b[0m\u001b[1;33m)\u001b[0m\u001b[1;33m\u001b[0m\u001b[0m\n\u001b[0m",
      "\u001b[1;31mValueError\u001b[0m: 'Art' is not in list"
     ]
    }
   ],
   "source": [
    "# To check value not in the list, we will get error\n",
    "courses = ['History', 'Mathematics','Physics', 'Chemistry', 'CompSci']\n",
    "print(courses.index('Art'))"
   ]
  },
  {
   "cell_type": "code",
   "execution_count": 76,
   "metadata": {},
   "outputs": [
    {
     "name": "stdout",
     "output_type": "stream",
     "text": [
      "False\n"
     ]
    }
   ],
   "source": [
    "# to check if the value is in the list to get a 'true' or 'false'\n",
    "courses = ['History', 'Mathematics','Physics', 'Chemistry', 'CompSci']\n",
    "print('Mathematic' in courses)             # this will be useful in if else and conditional statement"
   ]
  },
  {
   "cell_type": "code",
   "execution_count": 83,
   "metadata": {},
   "outputs": [
    {
     "name": "stdout",
     "output_type": "stream",
     "text": [
      "History\n",
      "Mathematics\n",
      "Physics\n",
      "Chemistry\n",
      "CompSci\n"
     ]
    }
   ],
   "source": [
    "courses = ['History', 'Mathematics','Physics', 'Chemistry', 'CompSci']\n",
    "\n",
    "for course in courses:\n",
    "    print(course)   # we be useful in conditional statement"
   ]
  },
  {
   "cell_type": "code",
   "execution_count": 84,
   "metadata": {},
   "outputs": [
    {
     "name": "stdout",
     "output_type": "stream",
     "text": [
      "(0, 'History')\n",
      "(1, 'Mathematics')\n",
      "(2, 'Physics')\n",
      "(3, 'Chemistry')\n",
      "(4, 'CompSci')\n"
     ]
    }
   ],
   "source": [
    "# we can acess the index and value using enumerate() function.it return the index and the value\n",
    "\n",
    "courses = ['History', 'Mathematics','Physics', 'Chemistry', 'CompSci']\n",
    "\n",
    "for course in enumerate(courses):\n",
    "    print(course) \n",
    "# To remove the bracket, apply index, course"
   ]
  },
  {
   "cell_type": "code",
   "execution_count": 86,
   "metadata": {},
   "outputs": [
    {
     "name": "stdout",
     "output_type": "stream",
     "text": [
      "0 History\n",
      "1 Mathematics\n",
      "2 Physics\n",
      "3 Chemistry\n",
      "4 CompSci\n"
     ]
    }
   ],
   "source": [
    "# To remove the bracket and return both index and values\n",
    "\n",
    "courses = ['History', 'Mathematics','Physics', 'Chemistry', 'CompSci']\n",
    "\n",
    "for index, course in enumerate(courses):\n",
    "    print(index, course)   #we have access to each index and value"
   ]
  },
  {
   "cell_type": "code",
   "execution_count": 87,
   "metadata": {},
   "outputs": [
    {
     "name": "stdout",
     "output_type": "stream",
     "text": [
      "1 History\n",
      "2 Mathematics\n",
      "3 Physics\n",
      "4 Chemistry\n",
      "5 CompSci\n"
     ]
    }
   ],
   "source": [
    "# if we dont want the index start at zero, we can pass start 1 to the enumerate() function\n",
    "\n",
    "courses = ['History', 'Mathematics','Physics', 'Chemistry', 'CompSci']\n",
    "\n",
    "for index, course in enumerate(courses, start = 1):\n",
    "    print(index, course) "
   ]
  },
  {
   "cell_type": "code",
   "execution_count": 88,
   "metadata": {},
   "outputs": [
    {
     "name": "stdout",
     "output_type": "stream",
     "text": [
      "History, Mathematics, Physics, Chemistry, CompSci\n"
     ]
    }
   ],
   "source": [
    "# Ways to turn list to string separated by certain values - \n",
    "#for example, let say we want to turn the list of courses to string comma separated value using join () functions\n",
    "\n",
    "courses = ['History', 'Mathematics','Physics', 'Chemistry', 'CompSci']\n",
    "course_str = ', '. join(courses)     # ', ' with space allow each course to have space after comma\n",
    "print(course_str)"
   ]
  },
  {
   "cell_type": "code",
   "execution_count": 92,
   "metadata": {},
   "outputs": [
    {
     "name": "stdout",
     "output_type": "stream",
     "text": [
      "History,Mathematics,Physics,Chemistry,CompSci\n"
     ]
    }
   ],
   "source": [
    "course_str = ','. join(courses)     # ',' without space allows each course to have no space after comma \n",
    "print(course_str)"
   ]
  },
  {
   "cell_type": "code",
   "execution_count": 93,
   "metadata": {},
   "outputs": [
    {
     "name": "stdout",
     "output_type": "stream",
     "text": [
      "History - Mathematics - Physics - Chemistry - CompSci\n"
     ]
    }
   ],
   "source": [
    "courses = ['History', 'Mathematics','Physics', 'Chemistry', 'CompSci']\n",
    "course_str = ' - '. join(courses) # space in the ' - ' hypen. \n",
    "print(course_str)"
   ]
  },
  {
   "cell_type": "code",
   "execution_count": 94,
   "metadata": {},
   "outputs": [
    {
     "name": "stdout",
     "output_type": "stream",
     "text": [
      "History - Mathematics - Physics - Chemistry - CompSci\n",
      "['History', 'Mathematics', 'Physics', 'Chemistry', 'CompSci']\n"
     ]
    }
   ],
   "source": [
    "# To reverse it back to the original list by using split () function\n",
    "courses = ['History', 'Mathematics','Physics', 'Chemistry', 'CompSci']\n",
    "course_str = ' - '. join(courses)\n",
    "\n",
    "new_list = course_str.split(' - ')\n",
    "print(course_str)\n",
    "print(new_list)"
   ]
  },
  {
   "cell_type": "code",
   "execution_count": 13,
   "metadata": {},
   "outputs": [
    {
     "data": {
      "text/plain": [
       "['g', 'h']"
      ]
     },
     "execution_count": 13,
     "metadata": {},
     "output_type": "execute_result"
    }
   ],
   "source": [
    "#slicing list using index example. \n",
    "\n",
    "x = [['a', 'b', 'c'],\n",
    "     ['d', 'e', 'f'],\n",
    "     ['g', 'h', 'i']]\n",
    "x[2][0]\n",
    "x[2][:2]"
   ]
  },
  {
   "cell_type": "code",
   "execution_count": 21,
   "metadata": {},
   "outputs": [],
   "source": [
    "#deleting from list or a list\n",
    "fam = [\"hello\", 1.22, \"liz\", 1.32, \"tune\", 1.45, \"weee\", 1.99]"
   ]
  },
  {
   "cell_type": "code",
   "execution_count": 22,
   "metadata": {},
   "outputs": [],
   "source": [
    "del(fam[2])"
   ]
  },
  {
   "cell_type": "code",
   "execution_count": 23,
   "metadata": {},
   "outputs": [
    {
     "data": {
      "text/plain": [
       "['hello', 1.22, 1.32, 'tune', 1.45, 'weee', 1.99]"
      ]
     },
     "execution_count": 23,
     "metadata": {},
     "output_type": "execute_result"
    }
   ],
   "source": [
    "fam\n",
    "\n",
    "# use can also use print(fam)"
   ]
  },
  {
   "cell_type": "code",
   "execution_count": 24,
   "metadata": {},
   "outputs": [],
   "source": [
    "del(fam[4:6]) #delete one list altogether \"tune\" and 21.45\""
   ]
  },
  {
   "cell_type": "code",
   "execution_count": 25,
   "metadata": {},
   "outputs": [
    {
     "name": "stdout",
     "output_type": "stream",
     "text": [
      "['hello', 1.22, 1.32, 'tune', 1.99]\n"
     ]
    }
   ],
   "source": [
    "print(fam)"
   ]
  },
  {
   "cell_type": "code",
   "execution_count": 26,
   "metadata": {},
   "outputs": [],
   "source": [
    "del(fam[2])"
   ]
  },
  {
   "cell_type": "code",
   "execution_count": 27,
   "metadata": {},
   "outputs": [
    {
     "data": {
      "text/plain": [
       "['hello', 1.22, 'tune', 1.99]"
      ]
     },
     "execution_count": 27,
     "metadata": {},
     "output_type": "execute_result"
    }
   ],
   "source": [
    "fam"
   ]
  },
  {
   "cell_type": "markdown",
   "metadata": {},
   "source": [
    "# Tuples and Sets\n",
    "\n",
    "Tuples are similar to list with one major difference, we can modify value in Tuples as compared to Lists, in programming this is called immutable (i.e. cannot be change over time), while List is mutable (i.e. Can be change) "
   ]
  },
  {
   "cell_type": "code",
   "execution_count": 95,
   "metadata": {},
   "outputs": [
    {
     "name": "stdout",
     "output_type": "stream",
     "text": [
      "['History', 'Mathematics', 'Physics', 'Chemistry', 'CompSci']\n",
      "['History', 'Mathematics', 'Physics', 'Chemistry', 'CompSci']\n"
     ]
    }
   ],
   "source": [
    "# issues that might occur with mutable variables or lists\n",
    "\n",
    "list_of_courses_1 = ['History', 'Mathematics','Physics', 'Chemistry', 'CompSci']\n",
    "list_of_courses_2 = list_of_courses_1 \n",
    "\n",
    "print(list_of_courses_1)\n",
    "print(list_of_courses_2)"
   ]
  },
  {
   "cell_type": "code",
   "execution_count": 96,
   "metadata": {},
   "outputs": [
    {
     "name": "stdout",
     "output_type": "stream",
     "text": [
      "['Art', 'Mathematics', 'Physics', 'Chemistry', 'CompSci']\n",
      "['Art', 'Mathematics', 'Physics', 'Chemistry', 'CompSci']\n"
     ]
    }
   ],
   "source": [
    "# we change or modify value in the list using index\n",
    "list_of_courses_1 = ['History', 'Mathematics','Physics', 'Chemistry', 'CompSci']\n",
    "list_of_courses_2 = list_of_courses_1 \n",
    "\n",
    "list_of_courses_1[0] = 'Art'  # it will give same output result for list_of_courses_2 because they are both mutable values\n",
    "\n",
    "print(list_of_courses_1)\n",
    "print(list_of_courses_2)"
   ]
  },
  {
   "cell_type": "code",
   "execution_count": 99,
   "metadata": {},
   "outputs": [
    {
     "name": "stdout",
     "output_type": "stream",
     "text": [
      "['History', 'Art', 'Physics', 'Chemistry', 'CompSci']\n",
      "['History', 'Art', 'Physics', 'Chemistry', 'CompSci']\n"
     ]
    }
   ],
   "source": [
    "list_of_courses_1 = ['History', 'Mathematics','Physics', 'Chemistry', 'CompSci']\n",
    "list_of_courses_2 = list_of_courses_1 \n",
    "\n",
    "list_of_courses_1[1] = 'Art'  # it will give same output result for list_of_courses_2 because they are both mutable values\n",
    "\n",
    "print(list_of_courses_1)\n",
    "print(list_of_courses_2)"
   ]
  },
  {
   "cell_type": "markdown",
   "metadata": {},
   "source": [
    "# Tuples examples - Immutable values\n",
    "In turples will use paranthesis ( ) not [ ]"
   ]
  },
  {
   "cell_type": "code",
   "execution_count": 104,
   "metadata": {},
   "outputs": [
    {
     "name": "stdout",
     "output_type": "stream",
     "text": [
      "('History', 'Mathematics', 'Physics', 'Chemistry', 'CompSci')\n",
      "('History', 'Mathematics', 'Physics', 'Chemistry', 'CompSci')\n",
      "<class 'tuple'>\n"
     ]
    }
   ],
   "source": [
    "turple_1 = ('History', 'Mathematics','Physics', 'Chemistry', 'CompSci')\n",
    "turple_2 = turple_1 \n",
    "\n",
    "print(turple_1)\n",
    "print(turple_2)\n",
    "print(type(turple_1))"
   ]
  },
  {
   "cell_type": "code",
   "execution_count": 102,
   "metadata": {},
   "outputs": [
    {
     "ename": "TypeError",
     "evalue": "'tuple' object does not support item assignment",
     "output_type": "error",
     "traceback": [
      "\u001b[1;31m---------------------------------------------------------------------------\u001b[0m",
      "\u001b[1;31mTypeError\u001b[0m                                 Traceback (most recent call last)",
      "\u001b[1;32m<ipython-input-102-1095159b7283>\u001b[0m in \u001b[0;36m<module>\u001b[1;34m()\u001b[0m\n\u001b[0;32m      4\u001b[0m \u001b[0mturple_2\u001b[0m \u001b[1;33m=\u001b[0m \u001b[0mturple_1\u001b[0m\u001b[1;33m\u001b[0m\u001b[0m\n\u001b[0;32m      5\u001b[0m \u001b[1;33m\u001b[0m\u001b[0m\n\u001b[1;32m----> 6\u001b[1;33m \u001b[0mturple_1\u001b[0m\u001b[1;33m[\u001b[0m\u001b[1;36m0\u001b[0m\u001b[1;33m]\u001b[0m \u001b[1;33m=\u001b[0m \u001b[1;34m'Art'\u001b[0m\u001b[1;33m\u001b[0m\u001b[0m\n\u001b[0m\u001b[0;32m      7\u001b[0m \u001b[1;33m\u001b[0m\u001b[0m\n\u001b[0;32m      8\u001b[0m \u001b[0mprint\u001b[0m\u001b[1;33m(\u001b[0m\u001b[0mturple_1\u001b[0m\u001b[1;33m)\u001b[0m\u001b[1;33m\u001b[0m\u001b[0m\n",
      "\u001b[1;31mTypeError\u001b[0m: 'tuple' object does not support item assignment"
     ]
    }
   ],
   "source": [
    "# if we try to change the value, as we did in the list_courses_1 in example above to 'Art', we will recorded error\n",
    "\n",
    "turple_1 = ('History', 'Mathematics','Physics', 'Chemistry', 'CompSci')\n",
    "turple_2 = turple_1 \n",
    "\n",
    "turple_1[0] = 'Art'\n",
    "\n",
    "print(turple_1)\n",
    "print(turple_2)"
   ]
  },
  {
   "cell_type": "markdown",
   "metadata": {},
   "source": [
    "# The same function that we have used for list can be used for turple, but you can change the value, it will give error"
   ]
  },
  {
   "cell_type": "code",
   "execution_count": 106,
   "metadata": {},
   "outputs": [
    {
     "name": "stdout",
     "output_type": "stream",
     "text": [
      "('m', 'y', 'n', 'a', 'm', 'e', 'i', 's', 'y')\n"
     ]
    }
   ],
   "source": [
    "d = tuple('mynameisy')\n",
    "print(d)"
   ]
  },
  {
   "cell_type": "code",
   "execution_count": 107,
   "metadata": {},
   "outputs": [
    {
     "data": {
      "text/plain": [
       "2"
      ]
     },
     "execution_count": 107,
     "metadata": {},
     "output_type": "execute_result"
    }
   ],
   "source": [
    "d.count('y')"
   ]
  },
  {
   "cell_type": "code",
   "execution_count": 109,
   "metadata": {},
   "outputs": [
    {
     "data": {
      "text/plain": [
       "3"
      ]
     },
     "execution_count": 109,
     "metadata": {},
     "output_type": "execute_result"
    }
   ],
   "source": [
    "d.index('a')"
   ]
  },
  {
   "cell_type": "code",
   "execution_count": 110,
   "metadata": {},
   "outputs": [
    {
     "name": "stdout",
     "output_type": "stream",
     "text": [
      "abel cane paul\n"
     ]
    }
   ],
   "source": [
    "(a, b, c) = ('abel', 'cane', 'paul')\n",
    "print(a,b,c)"
   ]
  },
  {
   "cell_type": "markdown",
   "metadata": {},
   "source": [
    "# Sets are value that are unorder and no duplicate\n",
    "sets dont care about order, unlike lists and turple, the order varies at each excution or run. it is uses { } . It assist to throw away duplicate values and test is a value is part of a set"
   ]
  },
  {
   "cell_type": "code",
   "execution_count": 120,
   "metadata": {},
   "outputs": [
    {
     "name": "stdout",
     "output_type": "stream",
     "text": [
      "{'Chemistry', 'History', 'CompSci', 'Mathematics', 'Physics'}\n"
     ]
    }
   ],
   "source": [
    "cs_courses = {'History', 'Mathematics','Physics', 'Chemistry', 'CompSci'}\n",
    "\n",
    "print(cs_courses)"
   ]
  },
  {
   "cell_type": "code",
   "execution_count": 122,
   "metadata": {},
   "outputs": [
    {
     "name": "stdout",
     "output_type": "stream",
     "text": [
      "{'Chemistry', 'History', 'CompSci', 'Mathematics', 'Physics'}\n"
     ]
    }
   ],
   "source": [
    "#if I introduce another value to the list that is same value, sets will ignore the value since we have one already\n",
    "cs_courses = {'History', 'Mathematics','Physics', 'Chemistry', 'CompSci', 'Mathematics'}\n",
    "\n",
    "print(cs_courses)"
   ]
  },
  {
   "cell_type": "code",
   "execution_count": 123,
   "metadata": {},
   "outputs": [
    {
     "name": "stdout",
     "output_type": "stream",
     "text": [
      "{'Chemistry', 'History', 'Art', 'CompSci', 'Mathematics', 'Physics'}\n"
     ]
    }
   ],
   "source": [
    "# 'Art is introduced and it print this because it is not part of the list before\n",
    "cs_courses = {'History', 'Mathematics','Physics', 'Chemistry', 'CompSci', 'Art'} \n",
    "\n",
    "print(cs_courses)"
   ]
  },
  {
   "cell_type": "code",
   "execution_count": 130,
   "metadata": {},
   "outputs": [
    {
     "name": "stdout",
     "output_type": "stream",
     "text": [
      "True\n",
      "False\n",
      "True\n",
      "True\n"
     ]
    }
   ],
   "source": [
    "# since it didnt print 'mathematics' when introduced the other time, but set allows this to be ask\n",
    "cs_courses = {'History', 'Mathematics','Physics', 'Chemistry', 'CompSci', 'Mathematics', 'History'} \n",
    "\n",
    "print('Mathematics' in cs_courses)\n",
    "\n",
    "print('Art' in cs_courses)\n",
    "\n",
    "print('Physics' in cs_courses)\n",
    "print('History' in cs_courses)"
   ]
  },
  {
   "cell_type": "code",
   "execution_count": 132,
   "metadata": {},
   "outputs": [
    {
     "name": "stdout",
     "output_type": "stream",
     "text": [
      "{'Mathematics', 'History'}\n"
     ]
    }
   ],
   "source": [
    "# created another set of course as another varibales and use sets to find the courses they have in common\n",
    "# using intersection () function\n",
    "\n",
    "cs_courses = {'History', 'Mathematics', 'Physics', 'CompSci'}\n",
    "art_courses = {'History', 'Mathematics', 'Art', 'Design'}\n",
    "\n",
    "print(cs_courses.intersection(art_courses))"
   ]
  },
  {
   "cell_type": "code",
   "execution_count": 133,
   "metadata": {},
   "outputs": [
    {
     "name": "stdout",
     "output_type": "stream",
     "text": [
      "{'CompSci', 'Physics'}\n"
     ]
    }
   ],
   "source": [
    "# To check the list of courses in cs_courses and not in art_courses using difference function \n",
    "cs_courses = {'History', 'Mathematics', 'Physics', 'CompSci'}\n",
    "art_courses = {'History', 'Mathematics', 'Art', 'Design'}\n",
    "\n",
    "print(cs_courses.difference(art_courses))"
   ]
  },
  {
   "cell_type": "code",
   "execution_count": 134,
   "metadata": {},
   "outputs": [
    {
     "name": "stdout",
     "output_type": "stream",
     "text": [
      "{'History', 'Art', 'CompSci', 'Design', 'Mathematics', 'Physics'}\n"
     ]
    }
   ],
   "source": [
    "#To print all the course and combine both cs_courses and art_courses using union() function\n",
    "cs_courses = {'History', 'Mathematics', 'Physics', 'CompSci'}\n",
    "art_courses = {'History', 'Mathematics', 'Art', 'Design'}\n",
    "\n",
    "print(cs_courses.union(art_courses))"
   ]
  },
  {
   "cell_type": "code",
   "execution_count": 150,
   "metadata": {},
   "outputs": [
    {
     "name": "stdout",
     "output_type": "stream",
     "text": [
      "set()\n"
     ]
    }
   ],
   "source": [
    "#clear( ) is used to clear all the elements and make that set an empty set.\n",
    "cs_courses = {'History', 'Mathematics', 'Physics', 'CompSci'}\n",
    "\n",
    "cs_courses.clear()\n",
    "print(cs_courses)\n"
   ]
  },
  {
   "cell_type": "markdown",
   "metadata": {},
   "source": [
    "# Creating empty List, Turple and Sets"
   ]
  },
  {
   "cell_type": "code",
   "execution_count": null,
   "metadata": {},
   "outputs": [],
   "source": [
    "# empty lists\n",
    "empty_list = []\n",
    "emply_list = list()\n",
    "\n",
    "#empty turples\n",
    "empty_turple = ()\n",
    "empty_turple = turple()\n",
    "\n",
    "#empty sets\n",
    "empty_set = {} # this isn't right, it's a dictionaries\n",
    "empty_set = set()\n"
   ]
  }
 ],
 "metadata": {
  "kernelspec": {
   "display_name": "Python 3",
   "language": "python",
   "name": "python3"
  },
  "language_info": {
   "codemirror_mode": {
    "name": "ipython",
    "version": 3
   },
   "file_extension": ".py",
   "mimetype": "text/x-python",
   "name": "python",
   "nbconvert_exporter": "python",
   "pygments_lexer": "ipython3",
   "version": "3.7.4"
  }
 },
 "nbformat": 4,
 "nbformat_minor": 2
}
