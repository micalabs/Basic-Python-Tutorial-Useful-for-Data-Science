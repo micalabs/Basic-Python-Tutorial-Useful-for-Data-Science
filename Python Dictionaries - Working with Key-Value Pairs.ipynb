{
 "cells": [
  {
   "cell_type": "markdown",
   "metadata": {},
   "source": [
    "In this Python Beginner Tutorial, we will begin learning about dictionaries. Dictionaries allow us to work with key-value pairs in Python. We will go over dictionary methods, how to add and remove values, and also how to loop through the key-value pairs. Let's get started."
   ]
  },
  {
   "cell_type": "code",
   "execution_count": 6,
   "metadata": {},
   "outputs": [],
   "source": [
    "# looks like a physical dictionaries, where the work we are looking for is 'key' and the meanings/definition is the values"
   ]
  },
  {
   "cell_type": "code",
   "execution_count": 13,
   "metadata": {},
   "outputs": [],
   "source": [
    "student = {'name':'John', 'age': 25, 'courses': ['maths','chemistry', 'physics']}\n",
    "    \n",
    "# name is 'string', age is 'integer' and courses are 'list'"
   ]
  },
  {
   "cell_type": "code",
   "execution_count": 14,
   "metadata": {},
   "outputs": [
    {
     "name": "stdout",
     "output_type": "stream",
     "text": [
      "{'name': 'John', 'age': 25, 'courses': ['maths', 'chemistry', 'physics']}\n"
     ]
    }
   ],
   "source": [
    "print(student)"
   ]
  },
  {
   "cell_type": "code",
   "execution_count": 15,
   "metadata": {},
   "outputs": [
    {
     "name": "stdout",
     "output_type": "stream",
     "text": [
      "John\n"
     ]
    }
   ],
   "source": [
    "#accessing 'name' as student dictionary\n",
    "print(student['name'])"
   ]
  },
  {
   "cell_type": "code",
   "execution_count": 16,
   "metadata": {},
   "outputs": [
    {
     "name": "stdout",
     "output_type": "stream",
     "text": [
      "['maths', 'chemistry', 'physics']\n"
     ]
    }
   ],
   "source": [
    "print(student['courses'])"
   ]
  },
  {
   "cell_type": "code",
   "execution_count": 17,
   "metadata": {},
   "outputs": [
    {
     "name": "stdout",
     "output_type": "stream",
     "text": [
      "25\n"
     ]
    }
   ],
   "source": [
    "print(student['age'])"
   ]
  },
  {
   "cell_type": "code",
   "execution_count": 18,
   "metadata": {},
   "outputs": [
    {
     "name": "stdout",
     "output_type": "stream",
     "text": [
      "John\n"
     ]
    }
   ],
   "source": [
    "#integer can also serves as dictionary, change name to 1\n",
    "student = {1:'John', 'age': 25, 'courses': ['maths','chemistry', 'physics']}\n",
    "print(student[1])"
   ]
  },
  {
   "cell_type": "code",
   "execution_count": 20,
   "metadata": {},
   "outputs": [
    {
     "ename": "KeyError",
     "evalue": "'phone'",
     "output_type": "error",
     "traceback": [
      "\u001b[1;31m---------------------------------------------------------------------------\u001b[0m",
      "\u001b[1;31mKeyError\u001b[0m                                  Traceback (most recent call last)",
      "\u001b[1;32m<ipython-input-20-5da595c03772>\u001b[0m in \u001b[0;36m<module>\u001b[1;34m\u001b[0m\n\u001b[0;32m      2\u001b[0m \u001b[1;33m\u001b[0m\u001b[0m\n\u001b[0;32m      3\u001b[0m \u001b[0mstudent\u001b[0m \u001b[1;33m=\u001b[0m \u001b[1;33m{\u001b[0m\u001b[1;34m'name'\u001b[0m\u001b[1;33m:\u001b[0m\u001b[1;34m'John'\u001b[0m\u001b[1;33m,\u001b[0m \u001b[1;34m'age'\u001b[0m\u001b[1;33m:\u001b[0m \u001b[1;36m25\u001b[0m\u001b[1;33m,\u001b[0m \u001b[1;34m'courses'\u001b[0m\u001b[1;33m:\u001b[0m \u001b[1;33m[\u001b[0m\u001b[1;34m'maths'\u001b[0m\u001b[1;33m,\u001b[0m\u001b[1;34m'chemistry'\u001b[0m\u001b[1;33m,\u001b[0m \u001b[1;34m'physics'\u001b[0m\u001b[1;33m]\u001b[0m\u001b[1;33m}\u001b[0m\u001b[1;33m\u001b[0m\u001b[1;33m\u001b[0m\u001b[0m\n\u001b[1;32m----> 4\u001b[1;33m \u001b[0mprint\u001b[0m\u001b[1;33m(\u001b[0m\u001b[0mstudent\u001b[0m\u001b[1;33m[\u001b[0m\u001b[1;34m'phone'\u001b[0m\u001b[1;33m]\u001b[0m\u001b[1;33m)\u001b[0m\u001b[1;33m\u001b[0m\u001b[1;33m\u001b[0m\u001b[0m\n\u001b[0m",
      "\u001b[1;31mKeyError\u001b[0m: 'phone'"
     ]
    }
   ],
   "source": [
    "#accessing key that does not exist will give error\n",
    "\n",
    "student = {'name':'John', 'age': 25, 'courses': ['maths','chemistry', 'physics']}\n",
    "print(student['phone'])"
   ]
  },
  {
   "cell_type": "code",
   "execution_count": 27,
   "metadata": {},
   "outputs": [
    {
     "name": "stdout",
     "output_type": "stream",
     "text": [
      "John\n"
     ]
    }
   ],
   "source": [
    "#to return none or default value will can use 'get' method\n",
    "\n",
    "student = {'name':'John', 'age': 25, 'courses': ['maths','chemistry', 'physics']}\n",
    "print(student.get('name'))\n"
   ]
  },
  {
   "cell_type": "code",
   "execution_count": 28,
   "metadata": {},
   "outputs": [
    {
     "name": "stdout",
     "output_type": "stream",
     "text": [
      "None\n"
     ]
    }
   ],
   "source": [
    "print(student.get('phone'))"
   ]
  },
  {
   "cell_type": "code",
   "execution_count": 29,
   "metadata": {},
   "outputs": [
    {
     "name": "stdout",
     "output_type": "stream",
     "text": [
      "Not Found\n"
     ]
    }
   ],
   "source": [
    "# to return key that does not exist , we can add not found\n",
    "\n",
    "print(student.get('phone', 'Not Found'))"
   ]
  },
  {
   "cell_type": "code",
   "execution_count": 50,
   "metadata": {},
   "outputs": [
    {
     "name": "stdout",
     "output_type": "stream",
     "text": [
      "555-1111-2222\n"
     ]
    }
   ],
   "source": [
    "# To add another value 'phone' to the student record \n",
    "student = {'name':'John','phone':'555-1111-2222', 'age': 25, 'courses': ['maths', 'chemistry', 'physics']}\n",
    "\n",
    "print(student['phone'])"
   ]
  },
  {
   "cell_type": "code",
   "execution_count": 57,
   "metadata": {},
   "outputs": [
    {
     "name": "stdout",
     "output_type": "stream",
     "text": [
      "555-1111\n"
     ]
    }
   ],
   "source": [
    "#to add another value or update the value\n",
    "\n",
    "student = {'name':'John', 'age': 25, 'courses': ['maths','chemistry', 'physics']}\n",
    "\n",
    "student['phone'] = '555-1111'\n",
    "print(student.get('phone', 'Not Found'))"
   ]
  },
  {
   "cell_type": "code",
   "execution_count": 66,
   "metadata": {},
   "outputs": [
    {
     "name": "stdout",
     "output_type": "stream",
     "text": [
      "{'name': 'Jane', 'age': 25, 'courses': ['maths', 'chemistry', 'physics'], 'phone': '555-1111'}\n"
     ]
    }
   ],
   "source": [
    "#to add another value or update the value\n",
    "\n",
    "student = {'name':'John', 'age': 25, 'courses': ['maths','chemistry', 'physics']}\n",
    "\n",
    "student['phone'] = '555-1111'\n",
    "student['name'] = 'Jane'\n",
    "print(student)"
   ]
  },
  {
   "cell_type": "code",
   "execution_count": 71,
   "metadata": {},
   "outputs": [
    {
     "name": "stdout",
     "output_type": "stream",
     "text": [
      "{'name': 'jane', 'age': 26, 'courses': ['maths', 'chemistry', 'physics'], 'coures': ['maths', 'chemistry', 'physics'], 'phone': '555-1111'}\n"
     ]
    }
   ],
   "source": [
    "# to use update function to update values\n",
    "student = {'name':'John', 'age': 25, 'courses': ['maths','chemistry', 'physics']}\n",
    "student.update({'name': 'jane', 'age': 26, 'coures': ['maths', 'chemistry', 'physics'], 'phone': '555-1111'})\n",
    "print(student)"
   ]
  },
  {
   "cell_type": "code",
   "execution_count": 72,
   "metadata": {},
   "outputs": [
    {
     "name": "stdout",
     "output_type": "stream",
     "text": [
      "{'name': 'jane', 'courses': ['maths', 'chemistry', 'physics'], 'coures': ['maths', 'chemistry', 'physics'], 'phone': '555-1111'}\n"
     ]
    }
   ],
   "source": [
    "# to delete a specific key and the values\n",
    "del student['age']\n",
    "print(student)"
   ]
  },
  {
   "cell_type": "code",
   "execution_count": 75,
   "metadata": {},
   "outputs": [
    {
     "name": "stdout",
     "output_type": "stream",
     "text": [
      "{'name': 'John', 'courses': ['maths', 'chemistry', 'physics']}\n",
      "25\n"
     ]
    }
   ],
   "source": [
    "# another ways to delete specific key and values using pop method that returns the value deleted separately\n",
    "student = {'name':'John', 'age': 25, 'courses': ['maths','chemistry', 'physics']}\n",
    "age = student.pop('age')\n",
    "print(student)\n",
    "print(age)\n"
   ]
  },
  {
   "cell_type": "code",
   "execution_count": 77,
   "metadata": {},
   "outputs": [
    {
     "name": "stdout",
     "output_type": "stream",
     "text": [
      "3\n"
     ]
    }
   ],
   "source": [
    "#to know how many key in the dictionary using len()\n",
    "student = {'name':'John', 'age': 25, 'courses': ['maths','chemistry', 'physics']}\n",
    "print(len(student))"
   ]
  },
  {
   "cell_type": "code",
   "execution_count": 79,
   "metadata": {},
   "outputs": [
    {
     "name": "stdout",
     "output_type": "stream",
     "text": [
      "dict_keys(['name', 'age', 'courses'])\n"
     ]
    }
   ],
   "source": [
    "# to have all the keys in the dictionaries\n",
    "\n",
    "student = {'name':'John', 'age': 25, 'courses': ['maths','chemistry', 'physics']}\n",
    "print(student.keys())"
   ]
  },
  {
   "cell_type": "code",
   "execution_count": 80,
   "metadata": {},
   "outputs": [
    {
     "name": "stdout",
     "output_type": "stream",
     "text": [
      "dict_values(['John', 25, ['maths', 'chemistry', 'physics']])\n"
     ]
    }
   ],
   "source": [
    "# to have all the values in the dictionaries\n",
    "\n",
    "student = {'name':'John', 'age': 25, 'courses': ['maths','chemistry', 'physics']}\n",
    "print(student.values())"
   ]
  },
  {
   "cell_type": "code",
   "execution_count": 81,
   "metadata": {},
   "outputs": [
    {
     "name": "stdout",
     "output_type": "stream",
     "text": [
      "dict_items([('name', 'John'), ('age', 25), ('courses', ['maths', 'chemistry', 'physics'])])\n"
     ]
    }
   ],
   "source": [
    "# to know alll the items values\n",
    "\n",
    "print(student.items())"
   ]
  },
  {
   "cell_type": "code",
   "execution_count": 83,
   "metadata": {},
   "outputs": [
    {
     "name": "stdout",
     "output_type": "stream",
     "text": [
      "name\n",
      "age\n",
      "courses\n"
     ]
    }
   ],
   "source": [
    "# to print out all keys in the dictionary in list\n",
    "\n",
    "for key in student:\n",
    "   print(key)"
   ]
  },
  {
   "cell_type": "code",
   "execution_count": 86,
   "metadata": {},
   "outputs": [
    {
     "name": "stdout",
     "output_type": "stream",
     "text": [
      "name John\n",
      "age 25\n",
      "courses ['maths', 'chemistry', 'physics']\n"
     ]
    }
   ],
   "source": [
    "# to make each key to equal each value\n",
    "\n",
    "for key, value in student.items():\n",
    "      print(key, value)"
   ]
  },
  {
   "cell_type": "code",
   "execution_count": null,
   "metadata": {},
   "outputs": [],
   "source": []
  }
 ],
 "metadata": {
  "kernelspec": {
   "display_name": "Python 3",
   "language": "python",
   "name": "python3"
  },
  "language_info": {
   "codemirror_mode": {
    "name": "ipython",
    "version": 3
   },
   "file_extension": ".py",
   "mimetype": "text/x-python",
   "name": "python",
   "nbconvert_exporter": "python",
   "pygments_lexer": "ipython3",
   "version": "3.7.4"
  }
 },
 "nbformat": 4,
 "nbformat_minor": 2
}
