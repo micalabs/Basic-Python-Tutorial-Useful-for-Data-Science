{
 "cells": [
  {
   "cell_type": "markdown",
   "metadata": {},
   "source": [
    "In this Python Beginner Tutorial, we will begin learning about if, elif, and else conditionals in Python. We will also be learning about Booleans and what evaluates to True and False. Let's get started."
   ]
  },
  {
   "cell_type": "code",
   "execution_count": 3,
   "metadata": {},
   "outputs": [
    {
     "name": "stdout",
     "output_type": "stream",
     "text": [
      "condictional was True\n"
     ]
    }
   ],
   "source": [
    "if True:\n",
    "    print('condictional was True')"
   ]
  },
  {
   "cell_type": "code",
   "execution_count": 10,
   "metadata": {},
   "outputs": [],
   "source": [
    "if False:\n",
    "    print('conditional was True')\n",
    "    \n",
    "# there is no output because condition is true"
   ]
  },
  {
   "cell_type": "code",
   "execution_count": 16,
   "metadata": {},
   "outputs": [
    {
     "name": "stdout",
     "output_type": "stream",
     "text": [
      "Conditional was True\n"
     ]
    }
   ],
   "source": [
    "# = mean assigning value while == mean testing for equality\n",
    "\n",
    "language = 'Python'\n",
    "\n",
    "if language == 'Python':\n",
    "    print('Conditional was True')"
   ]
  },
  {
   "cell_type": "markdown",
   "metadata": {},
   "source": [
    "# Comparisons:\n",
    "\n",
    "#Equal                  == \n",
    "#Not Equal              !=\n",
    "#Greater Than           >\n",
    "#Less Than              <\n",
    "#Greater than or Equal  >=\n",
    "#Less than or Equal     <=\n",
    "#Object Identity        'is' - checking for value of the same ID"
   ]
  },
  {
   "cell_type": "code",
   "execution_count": 42,
   "metadata": {},
   "outputs": [
    {
     "name": "stdout",
     "output_type": "stream",
     "text": [
      "language is Python\n"
     ]
    }
   ],
   "source": [
    "language = 'Python'\n",
    "if language == 'Python':\n",
    "    print('language is Python')\n",
    "else:\n",
    "    print('No Match')  "
   ]
  },
  {
   "cell_type": "code",
   "execution_count": 75,
   "metadata": {},
   "outputs": [
    {
     "name": "stdout",
     "output_type": "stream",
     "text": [
      "No Match\n"
     ]
    }
   ],
   "source": [
    "#another example that does not match\n",
    "\n",
    "language = 'java'\n",
    "if language == 'Python':\n",
    "    print('language is Python')\n",
    "else:\n",
    "    print('No Match') \n"
   ]
  },
  {
   "cell_type": "code",
   "execution_count": 76,
   "metadata": {},
   "outputs": [
    {
     "name": "stdout",
     "output_type": "stream",
     "text": [
      "language is Java\n"
     ]
    }
   ],
   "source": [
    "# to use 'elif' to run second conditional statement\n",
    "language = 'Java'\n",
    "\n",
    "if language == 'Python':\n",
    "    print('language is Python')\n",
    "    \n",
    "elif language == 'Java':\n",
    "    print('language is Java')\n",
    "    \n",
    "else:\n",
    "    print('No Match') \n"
   ]
  },
  {
   "cell_type": "code",
   "execution_count": 77,
   "metadata": {},
   "outputs": [
    {
     "name": "stdout",
     "output_type": "stream",
     "text": [
      "language is Java\n"
     ]
    }
   ],
   "source": [
    "# other programming languages has switch case but 'Python' dont have switch case, in that case, we will keep using 'elif'\n",
    "\n",
    "language = 'Java'\n",
    "\n",
    "if language == 'Python':\n",
    "    print('language is Python')\n",
    "    \n",
    "elif language == 'Java':\n",
    "    print('language is Java')\n",
    "\n",
    "elif language == 'Javascript':\n",
    "    print('language is Javascript')\n",
    "else:\n",
    "    print('No Match') \n"
   ]
  },
  {
   "cell_type": "code",
   "execution_count": 78,
   "metadata": {},
   "outputs": [
    {
     "name": "stdout",
     "output_type": "stream",
     "text": [
      "admin_page\n"
     ]
    }
   ],
   "source": [
    "# use of Boolean operation like And, Or, Not\n",
    "\n",
    "user = 'Admin'\n",
    "logged_in = True\n",
    "\n",
    "if user == 'Admin' and 'logged_in': # 'and' shows that both Admin and logged_in must be true\n",
    "    print('admin_page')\n",
    "else:\n",
    "    print('bad creds') # creds - credentials"
   ]
  },
  {
   "cell_type": "code",
   "execution_count": 81,
   "metadata": {},
   "outputs": [
    {
     "name": "stdout",
     "output_type": "stream",
     "text": [
      "bad Creds\n"
     ]
    }
   ],
   "source": [
    "user = 'Admin'\n",
    "logged_in = False\n",
    "\n",
    "if user == 'admin' and 'logged_in':# for 'and' both must be true\n",
    "    print('admin page')\n",
    "    \n",
    "else:\n",
    "    \n",
    "    print('bad Creds')"
   ]
  },
  {
   "cell_type": "code",
   "execution_count": 82,
   "metadata": {},
   "outputs": [
    {
     "name": "stdout",
     "output_type": "stream",
     "text": [
      "admin page\n"
     ]
    }
   ],
   "source": [
    "# change to loggen_in to False\n",
    "user = 'Admin'\n",
    "logged_in = False\n",
    "\n",
    "if user == 'admin' or 'logged_in': # for 'or' only one of the two have to be true\n",
    "    print('admin page')\n",
    "    \n",
    "else:\n",
    "    \n",
    "    print('bad Creds')"
   ]
  },
  {
   "cell_type": "code",
   "execution_count": 83,
   "metadata": {},
   "outputs": [
    {
     "name": "stdout",
     "output_type": "stream",
     "text": [
      "please log in\n"
     ]
    }
   ],
   "source": [
    "\n",
    "user = 'Admin'\n",
    "logged_in = False\n",
    "\n",
    "if not logged_in:\n",
    "    print('please log in')\n",
    "else:\n",
    "    print('welcome')"
   ]
  },
  {
   "cell_type": "code",
   "execution_count": 87,
   "metadata": {},
   "outputs": [
    {
     "name": "stdout",
     "output_type": "stream",
     "text": [
      "True\n"
     ]
    }
   ],
   "source": [
    "# object identity test if two object have the same ID and same object in memory\n",
    "# two object can be the same in ID and different in memory\n",
    "\n",
    "a = [1, 2, 3]\n",
    "b = [1, 2, 3]\n",
    "\n",
    "print(a == b) # b both a and b are true"
   ]
  },
  {
   "cell_type": "code",
   "execution_count": 88,
   "metadata": {},
   "outputs": [
    {
     "name": "stdout",
     "output_type": "stream",
     "text": [
      "False\n"
     ]
    }
   ],
   "source": [
    "print(a is b) # both a and b are different object in memory, not equal"
   ]
  },
  {
   "cell_type": "code",
   "execution_count": 89,
   "metadata": {},
   "outputs": [
    {
     "name": "stdout",
     "output_type": "stream",
     "text": [
      "3001064671240\n",
      "3001067276552\n",
      "True\n"
     ]
    }
   ],
   "source": [
    "# checking if the ID are the same\n",
    "a = [1, 2, 3]\n",
    "b = [1, 2, 3]\n",
    "\n",
    "print(id(a))\n",
    "print(id(b))\n",
    "print(a == b)\n"
   ]
  },
  {
   "cell_type": "code",
   "execution_count": 90,
   "metadata": {},
   "outputs": [
    {
     "name": "stdout",
     "output_type": "stream",
     "text": [
      "3001067379080\n",
      "3001067379080\n",
      "True\n"
     ]
    }
   ],
   "source": [
    "a = [1, 2, 3]\n",
    "b = a\n",
    "\n",
    "print(id(a))\n",
    "print(id(b))\n",
    "print(a is b) # they are both the same object in memory\n"
   ]
  },
  {
   "cell_type": "code",
   "execution_count": 91,
   "metadata": {},
   "outputs": [
    {
     "name": "stdout",
     "output_type": "stream",
     "text": [
      "3001067201288\n",
      "3001067201288\n",
      "True\n"
     ]
    }
   ],
   "source": [
    "a = [1, 2, 3]\n",
    "b = a\n",
    "\n",
    "print(id(a))\n",
    "print(id(b))\n",
    "print(a == b)\n"
   ]
  },
  {
   "cell_type": "code",
   "execution_count": 93,
   "metadata": {},
   "outputs": [
    {
     "name": "stdout",
     "output_type": "stream",
     "text": [
      "True\n"
     ]
    }
   ],
   "source": [
    "print(id(a) == id(b))"
   ]
  },
  {
   "cell_type": "markdown",
   "metadata": {},
   "source": [
    "# what Does Python Evaluated as False.\n",
    "by default it evaluated thing as True\n",
    "\n",
    "#false values: \n",
    "#False \n",
    "#None \n",
    "#Zero of any numeric type \n",
    "#Any empty sequence. For example, ' ' , ( ), [ ] \n",
    "#Any empty mapping. For example, { }. \n"
   ]
  },
  {
   "cell_type": "code",
   "execution_count": 97,
   "metadata": {},
   "outputs": [
    {
     "name": "stdout",
     "output_type": "stream",
     "text": [
      "Evaluated to False\n"
     ]
    }
   ],
   "source": [
    "condition = False # for using 'false', python accept this as false\n",
    "\n",
    "if condition:\n",
    "    print('Evaluated to True')\n",
    "else:\n",
    "    print('Evaluated to False')"
   ]
  },
  {
   "cell_type": "code",
   "execution_count": 99,
   "metadata": {},
   "outputs": [
    {
     "name": "stdout",
     "output_type": "stream",
     "text": [
      "Evaluated to False\n"
     ]
    }
   ],
   "source": [
    "condition = None # for using 'None', python accept this as false\n",
    "\n",
    "if condition:\n",
    "    print('Evaluated to True')\n",
    "else:\n",
    "    print('Evaluated to False')"
   ]
  },
  {
   "cell_type": "code",
   "execution_count": 100,
   "metadata": {},
   "outputs": [
    {
     "name": "stdout",
     "output_type": "stream",
     "text": [
      "Evaluated to False\n"
     ]
    }
   ],
   "source": [
    "condition = 0 # for using 'zero', python accept this as false\n",
    "\n",
    "if condition:\n",
    "    print('Evaluated to True')\n",
    "else:\n",
    "    print('Evaluated to False')"
   ]
  },
  {
   "cell_type": "code",
   "execution_count": 105,
   "metadata": {},
   "outputs": [
    {
     "name": "stdout",
     "output_type": "stream",
     "text": [
      "Evaluated to True\n"
     ]
    }
   ],
   "source": [
    "condition = 10 # An example of 'True' when using 'real number and not zero', python accept this as false\n",
    "\n",
    "if condition:\n",
    "    print('Evaluated to True')\n",
    "else:\n",
    "    print('Evaluated to False') # it will be True when real number is used and not zeron"
   ]
  },
  {
   "cell_type": "code",
   "execution_count": 101,
   "metadata": {},
   "outputs": [
    {
     "name": "stdout",
     "output_type": "stream",
     "text": [
      "Evaluated to False\n"
     ]
    }
   ],
   "source": [
    "condition = ''   # for using empty sequence '', python accept this as false\n",
    "\n",
    "if condition:\n",
    "    print('Evaluated to True')\n",
    "else:\n",
    "    print('Evaluated to False')"
   ]
  },
  {
   "cell_type": "code",
   "execution_count": 102,
   "metadata": {},
   "outputs": [
    {
     "name": "stdout",
     "output_type": "stream",
     "text": [
      "Evaluated to False\n"
     ]
    }
   ],
   "source": [
    "condition = () # for using using empty sequence '()', python accept this as false\n",
    "\n",
    "if condition:\n",
    "    print('Evaluated to True')\n",
    "else:\n",
    "    print('Evaluated to False')"
   ]
  },
  {
   "cell_type": "code",
   "execution_count": 103,
   "metadata": {},
   "outputs": [
    {
     "name": "stdout",
     "output_type": "stream",
     "text": [
      "Evaluated to False\n"
     ]
    }
   ],
   "source": [
    "condition = [] # for using using empty sequence '[]', python accept this as false\n",
    "\n",
    "if condition:\n",
    "    print('Evaluated to True')\n",
    "else:\n",
    "    print('Evaluated to False')"
   ]
  },
  {
   "cell_type": "code",
   "execution_count": 104,
   "metadata": {},
   "outputs": [
    {
     "name": "stdout",
     "output_type": "stream",
     "text": [
      "Evaluated to False\n"
     ]
    }
   ],
   "source": [
    "condition = {} # for using empty mapping'zero', python accept this as false\n",
    "\n",
    "if condition:\n",
    "    print('Evaluated to True')\n",
    "else:\n",
    "    print('Evaluated to False') # i.e. for using empty dictionary"
   ]
  },
  {
   "cell_type": "code",
   "execution_count": 107,
   "metadata": {},
   "outputs": [
    {
     "name": "stdout",
     "output_type": "stream",
     "text": [
      "Evaluated to True\n"
     ]
    }
   ],
   "source": [
    "#  for example if the conditional is change from empty sequence to text string, it will be evaluated to true\n",
    "\n",
    "condition = 'Test' # change condition to string i.e. test\n",
    "\n",
    "if condition:\n",
    "    print('Evaluated to True')\n",
    "else:\n",
    "    print('Evaluated to False')"
   ]
  },
  {
   "cell_type": "code",
   "execution_count": null,
   "metadata": {},
   "outputs": [],
   "source": []
  }
 ],
 "metadata": {
  "kernelspec": {
   "display_name": "Python 3",
   "language": "python",
   "name": "python3"
  },
  "language_info": {
   "codemirror_mode": {
    "name": "ipython",
    "version": 3
   },
   "file_extension": ".py",
   "mimetype": "text/x-python",
   "name": "python",
   "nbconvert_exporter": "python",
   "pygments_lexer": "ipython3",
   "version": "3.7.4"
  }
 },
 "nbformat": 4,
 "nbformat_minor": 2
}
